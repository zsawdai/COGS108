{
 "cells": [
  {
   "cell_type": "markdown",
   "metadata": {},
   "source": [
    "# Fourier Analysis and FFT\n",
    "###  The purpose of this tutorial is to introduce the Fourier Analysis method. "
   ]
  },
  {
   "cell_type": "code",
   "execution_count": null,
   "metadata": {},
   "outputs": [],
   "source": [
    "import numpy as np\n",
    "from matplotlib import pyplot as plt \n",
    "##THIS IS NEW\n",
    "from scipy.fftpack import fft, ifft  #THIS IS THE NEW FUNCTION!\n",
    "from hdf5storage import loadmat \n"
   ]
  },
  {
   "cell_type": "markdown",
   "metadata": {},
   "source": [
    "## Oscillations \n",
    "### Oscillations are ubiquitous in the world.  If we look at any signal, one of the most commonly observed features, is an oscillation. \n",
    "### Colloquially, we might say a signal is oscillation if we observe an alternation between peaks and troughs.  (See for example EEG signals!)\n",
    "### We need some math and physics to guide us here. \n",
    "\n",
    "### Sin and cosine functions defined over time,\n",
    "\n",
    "### $ e = Asin(2 \\pi f t)$\n",
    "### $ e = Acos(2 \\pi f t)$\n",
    "\n",
    "### Really, these two functions can be written as one function, with an additional parameter.  \n",
    "\n",
    "### $ e = Acos(2 \\pi f t + \\theta)$\n",
    "\n",
    "*  #### t = vector of time points \n",
    "*  #### f = frequency \n",
    "*  #### A = amplitude \n",
    "*  #### $\\theta$ = phase"
   ]
  },
  {
   "cell_type": "code",
   "execution_count": null,
   "metadata": {},
   "outputs": [],
   "source": [
    "def sinusoid(f,t,A = 1,theta = 0):\n",
    "    ''' makes a sinusoid of given frequency (f) at the time points given in t. \n",
    "    Amplitude (A) and phase (theta) can be optionally specified.  Phase is given in degrees not radians'''\n",
    "    theta = theta*np.pi/180 #convert theta from degrees to radians\n",
    "    e = A*np.cos(2*np.pi*f*t+theta)\n",
    "    return e\n"
   ]
  },
  {
   "cell_type": "code",
   "execution_count": null,
   "metadata": {},
   "outputs": [],
   "source": [
    "samplingrate = 100 # this is the rate at which the signal is sampled.  \n",
    "ts = 1/samplingrate #  this is the interval in time between samples.  \n",
    "t = np.arange(0,1,ts) #this is the time time vector with 1 value of time for each sample.  \n",
    "#using default values \n",
    "e = sinusoid(1,t) #A sinusoid with Amplitude 1 and Phase 0 by default. frequency is set to 1 Hz\n",
    "plt.figure(figsize = (8,6))\n",
    "plt.plot(t,e)\n",
    "plt.grid()\n",
    "plt.show()"
   ]
  },
  {
   "cell_type": "code",
   "execution_count": null,
   "metadata": {},
   "outputs": [],
   "source": [
    "samplingrate = 100 # this is the rate at which the signal is sampled.  \n",
    "ts = 1/samplingrate #  this is the interval in time between samples.  \n",
    "t = np.arange(0,1,ts) #this is the time time vector with 1 value of time for each sample.  \n",
    "#manipulate amplitude(A) \n",
    "plt.figure(figsize = (8,6))\n",
    "es = dict()\n",
    "for j in range(1,5,1):\n",
    "    es[j] = sinusoid(2,t,A=j)\n",
    "    plt.plot(t,es[j])\n",
    "plt.legend(('A=1','A=2','A=3','A=4'))\n",
    "plt.grid()\n",
    "plt.show()"
   ]
  },
  {
   "cell_type": "code",
   "execution_count": null,
   "metadata": {},
   "outputs": [],
   "source": [
    "testf = 5 #this is the frequency I want to plot.  \n",
    "samplingrate = 100 # this is the rate at which the signal is sampled.  \n",
    "ts = 1/samplingrate #  this is the interval in time between samples.  \n",
    "t = np.arange(0,1,ts) #this is the time time vector with 1 value of time for each sample.  \n",
    "plt.figure(figsize = (8,6))\n",
    "#manipulate frequency \n",
    "es = dict()\n",
    "es[1] = sinusoid(1,t)\n",
    "plt.plot(t,es[1])\n",
    "es[2] = sinusoid(testf,t)\n",
    "plt.plot(t,es[2])\n",
    "plt.legend(('f=1','f='+str(testf)))\n",
    "plt.grid(True)\n",
    "plt.show()"
   ]
  },
  {
   "cell_type": "markdown",
   "metadata": {},
   "source": [
    "#### The frequency of a sinusoid (f) is the inverse of the period $t_p$ .   A sinusoid of frequency f completes one complete cycle in a period $t_p = \\frac{1}{f}$. \n",
    "\n",
    "#### e.g., When the frequency is 5 Hz, the period is 1/5 = 0.2 sec, or 200 ms."
   ]
  },
  {
   "cell_type": "code",
   "execution_count": null,
   "metadata": {},
   "outputs": [],
   "source": [
    "testp = 90 #phase to be tested.   \n",
    "tsamplingrate = 100 # this is the rate at which the signal is sampled.  \n",
    "ts = 1/samplingrate #  this is the interval in time between samples.  \n",
    "t = np.arange(0,1,ts) #this is the time time vector with 1 value of time for each sample.  \n",
    "#manipulate phase (theta) \n",
    "es = dict()\n",
    "es[1] = sinusoid(2,t,A=2,theta = 0)\n",
    "plt.plot(t,es[1])\n",
    "es[2] = sinusoid(2,t,A=2,theta = testp)\n",
    "plt.plot(t,es[2])\n",
    "plt.legend(('theta=0','theta ='+str(testp)))\n",
    "plt.grid(True)\n",
    "plt.show()"
   ]
  },
  {
   "cell_type": "markdown",
   "metadata": {},
   "source": [
    "### Here we see that cosine and sine functions are related by a difference in phase. \n",
    "\n",
    "### **Cosine and sine have a phase difference of 90 degrees**\n",
    "\n",
    "#### What does that mean?  "
   ]
  },
  {
   "cell_type": "markdown",
   "metadata": {},
   "source": [
    "#### Arbitrary phase differences\n",
    "\n",
    "#### $cos(2 \\pi f t + \\theta) = cos(\\theta)cos(2 \\pi f t) - sin(\\theta)sin(2 \\pi f t)$\n"
   ]
  },
  {
   "cell_type": "markdown",
   "metadata": {},
   "source": [
    "## Orthogonality and the Fourier Series\n",
    "\n",
    "### Orthogonality\n",
    "\n",
    "#### When we work with vectors ($\\vec{x}$ and $\\vec{y}$), the definition of perpendicular is that the dot product between the vectors is that the dot product is zero \n",
    "\n",
    "#### $ \\vec{x} \\cdot \\vec{y} = 0 $\n",
    "\n",
    "#### we use the concept of perpendicular to define a coordinate axis. For example, the x and y axis in a plane are perpendicular to each other. (We will come back to this important intuition)\n",
    "\n",
    "#### When working with functions, the concept of perpendicular is called **orthogonal**.  $f(x)$ and $g(x)$ are orthogonal if and only\n",
    "\n",
    "#### $ \\int_{-\\infty}^{\\infty} f(x)g(x) dx = 0$\n",
    "\n",
    "#### The limits of the integral above are the domain of the function.  \n"
   ]
  },
  {
   "cell_type": "markdown",
   "metadata": {},
   "source": [
    "### Orthogonality of Sinusoidal Functions \n",
    "\n",
    "#### $ \\int_{-\\infty}^{\\infty} cos(ux) cos(vx) dx = 0$ if $u \\neq v$\n",
    "#### $ \\int_{-\\infty}^{\\infty} cos(ux) sin(ux) dx = 0$ \n",
    "\n",
    "#### The way to read the above statement is that a dot product of two sinusoid functions will equal zero unless the frequency of the sinusoid are identical.   \n",
    "\n",
    "#### The best way to build our intuition is simulate.  "
   ]
  },
  {
   "cell_type": "code",
   "execution_count": null,
   "metadata": {},
   "outputs": [],
   "source": [
    "samplingrate = 100 # this is the rate at which the signal is sampled.  \n",
    "ts = 1/samplingrate #  this is the interval in time between samples.  \n",
    "T = 1 #This is the total length (in seconds) of the interval. \n",
    "t = np.arange(0,T,ts) #this is the time time vector with 1 value of time for each sample.  \n",
    "#manipulate phase (theta) \n",
    "es = dict()\n",
    "f = [5.1,5]\n",
    "nsamp = np.size(t)\n",
    "es[0] = sinusoid(f[0],t,theta = 90)\n",
    "es[1] = sinusoid(f[1],t)\n",
    "dp = np.sum(es[0]*es[1])/nsamp \n",
    "print(dp)"
   ]
  },
  {
   "cell_type": "markdown",
   "metadata": {},
   "source": [
    "### Problem 1\n",
    "\n",
    "Write a script to evaluate the dot product between two sinusoids as the frequency of one of the sinusoids is being changed.   \n",
    "\n",
    "(a) Assume the sampling rate is 100 Hz and the interval is 1 sec one of the frequencies is 5 Hz and the other frequency changes from 3 to 7 in steps of 0.1. Make a plot of the difference in frequency (from -2 to 2 Hz verus the value of the dot product)     \n",
    "\n",
    "(b) Run the code above for T = 1,5,10 and make labeled plots \n",
    "\n",
    "(c) Create a markdown box to write down what you think you see here.  "
   ]
  },
  {
   "cell_type": "code",
   "execution_count": null,
   "metadata": {},
   "outputs": [],
   "source": []
  },
  {
   "cell_type": "markdown",
   "metadata": {},
   "source": [
    "#### Fourier Series\n",
    "\n",
    "#### Given x(t) of length N samples, \n",
    "\n",
    "#### $$ x(t) = A_0 + \\sum_{n=0}^{N/2}{A_f[cos(2\\pi{f_nt})] +B_f[sin(2\\pi{f_nt})]}$$\n",
    "\n",
    "#### $$ x(t) = \\sum_{n=-N/2}^{N/2}{X_f[cos(2\\pi{f_nt}) -i\\cdot sin(2\\pi{f_nt})]}$$\n",
    "\n",
    "#### $$ x(t) = \\sum_{n=-N/2}^{N/2}{X_f[exp^{(i 2\\pi{f_nt})}]}$$\n",
    "\n",
    "#### $$ f_n = \\frac{n}{T}, n = -N/2, -N/2+1, ... N/2-1,N/2 $$"
   ]
  },
  {
   "cell_type": "markdown",
   "metadata": {},
   "source": [
    "## DFT - Discrete Fourier Transfor,\n",
    "#### The DFT can transform a sequence of evenly spaced signal to the information about the frequency of all the  sine waves that needed to sum to the time domain signal. \n",
    "\n",
    "#### The first expression above represents the time series x as a sum of sin and cosine functions up to the highest allowable frequency with N samples with is N/2. \n",
    "\n",
    "#### I then made use of *Euler's formula*, which links the trigonometric functions to the complex exponential function: $e^{i\\cdot x} = cosx+i\\cdot sinx$ to generate the 3rd expression. This is the critical expression of the Fourier series.  \n",
    "\n",
    "#### $$ X_f = A_f + i\\cdot B_f $$\n",
    "\n",
    "#### Note that the $X_k$ is a complex number that encodes both the amplitude and phase information of a complex sinusoidal component $e^{i\\cdot 2\\pi f_n t}$ of function $x(t)$. The amplitude and phase of the signal can be calculated as:\n",
    "\n",
    "#### $$Amplitude = |X_f|= \\sqrt{Re(X_f)^2 + Im(X_f)^2}$$\n",
    "\n",
    "#### $$Phase = arctan(\\frac{Im(X_k)}{Re(X_k})$$\n",
    "\n",
    "#### where $Im(X_k)$ and $Re(X_k)$ are the imaginary and real part of the complex number,\n",
    "\n",
    "\n"
   ]
  },
  {
   "cell_type": "code",
   "execution_count": null,
   "metadata": {},
   "outputs": [],
   "source": [
    "samplingrate = 250 # this is the rate at which the signal is sampled.  \n",
    "ts = 1/samplingrate #  this is the interval in time between samples.  \n",
    "T = 1 # total length of samples\n",
    "t = np.arange(0,T,ts) #this is the time time vector with 1 value of time for each sample.  \n",
    "#manipulate phase (theta) \n",
    "es = dict()\n",
    "es[1] = sinusoid(5,t,A=2,theta = 0)\n",
    "plt.plot(t,es[1])\n",
    "plt.show()"
   ]
  },
  {
   "cell_type": "code",
   "execution_count": null,
   "metadata": {},
   "outputs": [],
   "source": [
    "xf = fft(es[1])\n",
    "print(xf[0:20])"
   ]
  },
  {
   "cell_type": "code",
   "execution_count": null,
   "metadata": {},
   "outputs": [],
   "source": [
    "amplitude = np.abs(xf)\n",
    "plt.plot(amplitude)"
   ]
  },
  {
   "cell_type": "code",
   "execution_count": null,
   "metadata": {},
   "outputs": [],
   "source": [
    "plt.plot(amplitude[0:11])"
   ]
  },
  {
   "cell_type": "markdown",
   "metadata": {},
   "source": [
    "#### The amplitude returned by DFT equal to the amplitudes of the signals fed into the DFT if we normalize it by the number of sample points. \n",
    "\n",
    "#### However, the FFT algorithm considers both positive and negative frequencies as in the definition of the Fourier Series above.  \n",
    "\n",
    "#### If the input signal is a real-valued sequence as we described the spectrum of the positive and negative frequencies will be symmetric, therefore, we will only look at one side of the DFT result, and multiply by 2 to get the amplitude corresponding to the time domain signal.\n"
   ]
  },
  {
   "cell_type": "code",
   "execution_count": null,
   "metadata": {},
   "outputs": [],
   "source": [
    "nsamp = np.size(t)\n",
    "nf = np.floor(nsamp/2)  # I am going to use floor here in case nsamp is odd\n",
    "nf = int(nf) #make sure its an integer\n",
    "f_n = np.arange(0,nf+1)/T #these are the frequencies we can estimate \n",
    "amplitude = 2*np.abs(xf)/nsamp #I need to divide by the number of samples\n",
    "                             #multiply by 2 to account for negative frequencies.    \n",
    "\n",
    "plt.plot(f_n[0:nf+1],amplitude[0:nf+1])\n",
    "plt.show()"
   ]
  },
  {
   "cell_type": "code",
   "execution_count": null,
   "metadata": {},
   "outputs": [],
   "source": [
    "samplingrate = 250 # this is the rate at which the signal is sampled.  \n",
    "ts = 1/samplingrate #  this is the interval in time between samples.  \n",
    "T = 1 # total length of samples\n",
    "t = np.arange(0,T,ts) #this is the time time vector with 1 value of time for each sample.  \n",
    "#manipulate phase (theta) \n",
    "es = dict()\n",
    "es[1] = sinusoid(5,t,A=2,theta = 0)\n",
    "plt.plot(t,es[1])\n",
    "es[2] = sinusoid(8,t,A=1,theta = 90)\n",
    "plt.plot(t,es[2])\n",
    "es[3] = sinusoid(15,t,A=1,theta = 45)\n",
    "plt.plot(t,es[3])\n",
    "plt.legend(['5','8','15'])\n",
    "plt.show()\n",
    "es[4] = es[1]+es[2]+es[3]\n",
    "plt.figure()\n",
    "plt.plot(t,es[4])\n",
    "plt.show()"
   ]
  },
  {
   "cell_type": "code",
   "execution_count": null,
   "metadata": {},
   "outputs": [],
   "source": [
    "xf = dict()\n",
    "for j in range(1,5,1):\n",
    "    xf[j] = fft(es[j]) #I am going to store each fft output in a dictionary\n",
    "nsamp = np.size(t)\n",
    "nf = int(np.floor(nsamp/2))\n",
    "f_n = np.arange(0,nf+1)/T"
   ]
  },
  {
   "cell_type": "code",
   "execution_count": null,
   "metadata": {},
   "outputs": [],
   "source": [
    "print(xf[3][0:20])"
   ]
  },
  {
   "cell_type": "code",
   "execution_count": null,
   "metadata": {},
   "outputs": [],
   "source": [
    "amplitude = 2*np.abs(xf[4])/nsamp\n",
    "plt.plot(f_n,amplitude[0:nf+1])"
   ]
  },
  {
   "cell_type": "markdown",
   "metadata": {},
   "source": [
    "### Can we recover the phase?"
   ]
  },
  {
   "cell_type": "code",
   "execution_count": null,
   "metadata": {},
   "outputs": [],
   "source": [
    "p = np.angle(xf[4][5])\n",
    "p = p*180/np.pi \n",
    "print(p)"
   ]
  },
  {
   "cell_type": "markdown",
   "metadata": {},
   "source": [
    "### THE SINGLE MOST IMPRESSIVE THING ABOUT THIS "
   ]
  },
  {
   "cell_type": "code",
   "execution_count": null,
   "metadata": {},
   "outputs": [],
   "source": [
    "myseed = 1234\n",
    "rng = np.random.default_rng(seed = myseed)\n",
    "noise = rng.normal(0,1,nsamp) #random numbers with a mean of 0 \n",
    "                              # and standatd deviation as 2nd parameter\n",
    "signalwnoise = es[4]+noise\n",
    "plt.plot(t,signalwnoise)\n",
    "plt.show()\n",
    "sn_fft = fft(signalwnoise)\n",
    "amplitude = 2*np.abs(sn_fft)/nsamp\n",
    "\n",
    "plt.plot(f_n,amplitude[0:nf+1])\n",
    "plt.show()\n",
    "\n",
    "plt.plot(f_n[0:30],amplitude[0:30])\n",
    "plt.show()\n",
    "\n"
   ]
  },
  {
   "cell_type": "markdown",
   "metadata": {},
   "source": [
    "## Spectral Analysis \n",
    "\n",
    "#### In many disciplines, including neuroscience, spectral analysis is often the starting point in analyzing time seres data. \n",
    "\n",
    "#### Spectral analysis is the analysis of the frequency content of the signals being observed.\n",
    "\n",
    "#### Its foundational in analyzing human EEG but also Local Field Potentials (LFP) obtained from inserting electrodes into animal models\n",
    "\n",
    "#### Like any other measure of data, the quality of the estimate can be improved by averaging over multiple observations.   "
   ]
  },
  {
   "cell_type": "code",
   "execution_count": null,
   "metadata": {},
   "outputs": [],
   "source": [
    "data = loadmat('data/LFP.mat', squeeze_me=True)\n",
    "print(data.keys())\n",
    "\n",
    "# unpack the variables\n",
    "fs = data['fs'] # sampling rate \n",
    "deltaT = 1/fs # time steps\n",
    "\n",
    "lfp = data['lfp'][0,:]/1000 # this file contains two channels, we'll only work with the first one\n",
    "lfp_short = lfp[:int(2*fs)] # make a variable that has only the first two seconds of the LFP\n",
    "t_short = np.arange(0, len(lfp_short)*deltaT, deltaT) # create the corresponding time vector\n",
    "\n",
    "plt.figure(figsize=(15,3))\n",
    "plt.plot(t_short,lfp_short, 'k', alpha=0.8)\n",
    "plt.xlabel('Time (s)');plt.ylabel('Voltage');\n",
    "plt.show()"
   ]
  },
  {
   "cell_type": "markdown",
   "metadata": {},
   "source": [
    "#### The plot above has the local field potential (LFP) recorded in the rat hippocampus. This dataset comes from an openly accessible neuroscience database. For more information on this particular dataset, see [here](https://crcns.org/data-sets/hc/hc-2/about-hc-2).\n",
    "\n",
    "#### You will notice that the LFP signal has a very prominent rhythmic component, with peaks near, for example, 0.25, 0.37, and 0.5 seconds. Therefore, it has a **periodicity of about 0.125 seconds**, or a **frequency of 8Hz**. This is a very famous brain oscillation, called the theta oscillation which is central to memory functions.  There is also some faster oscillations observable in the plot.  "
   ]
  },
  {
   "cell_type": "markdown",
   "metadata": {},
   "source": [
    "### Problem #2 \n",
    "\n",
    "#### I want you to use the FFT algorithm to investigate the amplitudes of the frequency content of the signal, visualizing it, and averaging the amplitudes. \n",
    "\n",
    "#### (a) Use the FFT examples as a guide on how to compute and visualize the amplitude spectrum.  Compute the amplitude spectrum of the segment of the data plotted above (lfp_short).\n",
    "\n",
    "\n",
    "#### (b) Visualize the amplitude on a linear and on a logarithmic scale. You can do this by take the log of the amplitude, but you can also do it by choosing a logarithmic scale when you call plot. \n",
    "\n",
    "#### (c) Make a loop to segment 10 consecutive epochs from the LFP file, and compute tha amplitude of each epoch and plot them all on the same graph. \n",
    "\n",
    "#### (d) Extend your loop to compute the average amplitude spectrum of a set of m epochs. Make a graph that shows the average amplitude spectrum of the first m = 20, m= 40, and m = 80 epochs.  \n",
    "\n"
   ]
  },
  {
   "cell_type": "code",
   "execution_count": null,
   "metadata": {},
   "outputs": [],
   "source": []
  }
 ],
 "metadata": {
  "kernelspec": {
   "display_name": "Python 3.9.12 ('eeg')",
   "language": "python",
   "name": "python3"
  },
  "language_info": {
   "codemirror_mode": {
    "name": "ipython",
    "version": 3
   },
   "file_extension": ".py",
   "mimetype": "text/x-python",
   "name": "python",
   "nbconvert_exporter": "python",
   "pygments_lexer": "ipython3",
   "version": "3.9.12"
  },
  "orig_nbformat": 4,
  "vscode": {
   "interpreter": {
    "hash": "865db03388ba9bb0c3ffa1f5a9ec6862d804daa515edd12d6b924569723c412d"
   }
  }
 },
 "nbformat": 4,
 "nbformat_minor": 2
}
